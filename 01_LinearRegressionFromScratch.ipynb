{
 "cells": [
  {
   "attachments": {},
   "cell_type": "markdown",
   "metadata": {},
   "source": [
    "Imports"
   ]
  },
  {
   "cell_type": "code",
   "execution_count": 153,
   "metadata": {},
   "outputs": [],
   "source": [
    "import numpy as np\n",
    "import matplotlib.pyplot as plt"
   ]
  },
  {
   "attachments": {},
   "cell_type": "markdown",
   "metadata": {},
   "source": [
    "Data"
   ]
  },
  {
   "cell_type": "code",
   "execution_count": 154,
   "metadata": {},
   "outputs": [],
   "source": [
    "X_train = np.array([1,2,3,4,5])\n",
    "y_train = np.array([11,21,31,41,51])\n",
    "\n",
    "X_test = np.array([10])"
   ]
  },
  {
   "attachments": {},
   "cell_type": "markdown",
   "metadata": {},
   "source": [
    "Plotting the dataset"
   ]
  },
  {
   "cell_type": "code",
   "execution_count": 155,
   "metadata": {},
   "outputs": [
    {
     "data": {
      "image/png": "[encoded data removed]",
      "text/plain": [
       "<Figure size 640x480 with 1 Axes>"
      ]
     },
     "metadata": {},
     "output_type": "display_data"
    }
   ],
   "source": [
    "plt.scatter(X_train, y_train)\n",
    "plt.show()"
   ]
  },
  {
   "attachments": {},
   "cell_type": "markdown",
   "metadata": {},
   "source": [
    "Compute cost function"
   ]
  },
  {
   "attachments": {},
   "cell_type": "markdown",
   "metadata": {},
   "source": [
    "###### Cost function gives an overall approximation of how good a ML model is. [Not to be confused with loss function, which also calculates error, but is used in the training phase, for evaluating the state of model during training]"
   ]
  },
  {
   "cell_type": "code",
   "execution_count": 156,
   "metadata": {},
   "outputs": [],
   "source": [
    "def cost(x, y, w, b):\n",
    "    m = x.shape[0]\n",
    "    tot_err = 0\n",
    "    for i in range(m):\n",
    "        f_wb_i = w * x[i] + b\n",
    "        err = (f_wb_i - y[i]) ** 2\n",
    "        tot_err += err\n",
    "    tot_cost = (1/2*m) * tot_err\n",
    "    return tot_cost"
   ]
  },
  {
   "attachments": {},
   "cell_type": "markdown",
   "metadata": {},
   "source": [
    "Computing the gradient and performing gradient descent"
   ]
  },
  {
   "attachments": {},
   "cell_type": "markdown",
   "metadata": {},
   "source": [
    "###### In machine learning, gradients are vectors that point in the direction of the steepest increase or decrease in a function. More specifically, they are the partial derivatives of a function with respect to its parameters."
   ]
  },
  {
   "cell_type": "code",
   "execution_count": 157,
   "metadata": {},
   "outputs": [],
   "source": [
    "def compute_gradient(x, y, w, b):\n",
    "    dJ_dw, dJ_db = 0, 0\n",
    "    m = x.shape[0]\n",
    "    for i in range(m):\n",
    "        f_wb_i = w*x[i] + b                 # basic function\n",
    "\n",
    "        dJ_dw_i = (f_wb_i - y[i])*x[i]     # we got this from differenciation (theory)\n",
    "        dJ_db_i = (f_wb_i - y[i])\n",
    "\n",
    "        dJ_dw += dJ_dw_i                    # Simultaneous updation\n",
    "        dJ_db += dJ_db_i\n",
    "    \n",
    "    return dJ_dw/m, dJ_db/m    "
   ]
  },
  {
   "attachments": {},
   "cell_type": "markdown",
   "metadata": {},
   "source": [
    "###### Gradient descent is an algorithm which will converge on the minima of a given function. Here, "
   ]
  },
  {
   "cell_type": "code",
   "execution_count": 158,
   "metadata": {},
   "outputs": [],
   "source": [
    "def gradient_descent(x, y, w, b, lr, num_epoch, gradient_fn, cost_fn):\n",
    "    cost_list = []  # For plotting in future\n",
    "    for i in range(num_epoch):\n",
    "        dJ_dw, dJ_db = gradient_fn(x, y, w, b)\n",
    "        w -= lr * dJ_dw\n",
    "        b -= lr * dJ_db\n",
    "        current_cost = cost_fn(x, y, w, b)\n",
    "        cost_list.append(current_cost)\n",
    "    return w, b, cost_list"
   ]
  },
  {
   "attachments": {},
   "cell_type": "markdown",
   "metadata": {},
   "source": [
    "Implementing everything"
   ]
  },
  {
   "cell_type": "code",
   "execution_count": 159,
   "metadata": {},
   "outputs": [],
   "source": [
    "lr =.1\n",
    "num_epochs = 2000\n",
    "w_i,b_i = 1,2           # Random numbers initiated\n",
    "w, b, cost_list = gradient_descent(X_train, y_train, w_i, b_i,lr, num_epochs, compute_gradient, cost)"
   ]
  },
  {
   "attachments": {},
   "cell_type": "markdown",
   "metadata": {},
   "source": [
    "Plotting the cost vs iteration graph"
   ]
  },
  {
   "cell_type": "code",
   "execution_count": 160,
   "metadata": {},
   "outputs": [
    {
     "data": {
      "text/plain": [
       "[]"
      ]
     },
     "execution_count": 160,
     "metadata": {},
     "output_type": "execute_result"
    },
    {
     "data": {
      "image/png": "[encoded data removed]",
      "text/plain": [
       "<Figure size 640x480 with 1 Axes>"
      ]
     },
     "metadata": {},
     "output_type": "display_data"
    }
   ],
   "source": [
    "x = [i for i in range(num_epochs)] \n",
    "y = cost_list\n",
    "plt.plot(x,y)\n",
    "plt.plot()"
   ]
  },
  {
   "cell_type": "code",
   "execution_count": 167,
   "metadata": {},
   "outputs": [
    {
     "data": {
      "text/plain": [
       "3.155443620884047e-29"
      ]
     },
     "execution_count": 167,
     "metadata": {},
     "output_type": "execute_result"
    }
   ],
   "source": [
    "cost_list[-1]"
   ]
  },
  {
   "attachments": {},
   "cell_type": "markdown",
   "metadata": {},
   "source": [
    "###### Looks from the cost-iteration graph that the gradient descent has converged."
   ]
  },
  {
   "attachments": {},
   "cell_type": "markdown",
   "metadata": {},
   "source": [
    "Testing"
   ]
  },
  {
   "cell_type": "code",
   "execution_count": 161,
   "metadata": {},
   "outputs": [
    {
     "name": "stdout",
     "output_type": "stream",
     "text": [
      "9.999999999999998 1.0000000000000053\n"
     ]
    }
   ],
   "source": [
    "print(w, b)"
   ]
  },
  {
   "cell_type": "code",
   "execution_count": 162,
   "metadata": {},
   "outputs": [
    {
     "data": {
      "text/plain": [
       "100.99999999999999"
      ]
     },
     "execution_count": 162,
     "metadata": {},
     "output_type": "execute_result"
    }
   ],
   "source": [
    "y_test = w*X_test[0] + b\n",
    "y_test"
   ]
  },
  {
   "attachments": {},
   "cell_type": "markdown",
   "metadata": {},
   "source": [
    "###### which seems correct. This is gradient descent"
   ]
  }
 ],
 "metadata": {
  "kernelspec": {
   "display_name": "Python 3",
   "language": "python",
   "name": "python3"
  },
  "language_info": {
   "codemirror_mode": {
    "name": "ipython",
    "version": 3
   },
   "file_extension": ".py",
   "mimetype": "text/x-python",
   "name": "python",
   "nbconvert_exporter": "python",
   "pygments_lexer": "ipython3",
   "version": "3.10.6"
  },
  "orig_nbformat": 4
 },
 "nbformat": 4,
 "nbformat_minor": 2
}
