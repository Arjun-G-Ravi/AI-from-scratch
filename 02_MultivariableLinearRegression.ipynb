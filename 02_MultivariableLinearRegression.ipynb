{
 "cells": [
  {
   "attachments": {},
   "cell_type": "markdown",
   "metadata": {},
   "source": [
    "Imports"
   ]
  },
  {
   "cell_type": "code",
   "execution_count": 129,
   "metadata": {},
   "outputs": [],
   "source": [
    "import matplotlib.pyplot as plt\n",
    "import numpy as np"
   ]
  },
  {
   "attachments": {},
   "cell_type": "markdown",
   "metadata": {},
   "source": [
    "Dataset"
   ]
  },
  {
   "cell_type": "code",
   "execution_count": 130,
   "metadata": {},
   "outputs": [],
   "source": [
    "X_train = np.array([[1,2,3], [4,5,6], [7,8,9], [13,14,15]])\n",
    "y_train = np.array([1,2,3,5])\n",
    "\n",
    "X_test = np.array([[10,11,12]])"
   ]
  },
  {
   "cell_type": "code",
   "execution_count": 131,
   "metadata": {},
   "outputs": [
    {
     "data": {
      "text/plain": [
       "(4, 3)"
      ]
     },
     "execution_count": 131,
     "metadata": {},
     "output_type": "execute_result"
    }
   ],
   "source": [
    "m,n = X_train.shape\n",
    "m,n"
   ]
  },
  {
   "attachments": {},
   "cell_type": "markdown",
   "metadata": {},
   "source": [
    "###### We have 4 training examples and 3 features for the dataset"
   ]
  },
  {
   "attachments": {},
   "cell_type": "markdown",
   "metadata": {},
   "source": [
    "Create cost, gradient and gradient descent function"
   ]
  },
  {
   "cell_type": "code",
   "execution_count": 132,
   "metadata": {},
   "outputs": [],
   "source": [
    "def compute_cost(x, y, w, b):\n",
    "    m, n = x.shape\n",
    "    tot_err = 0 \n",
    "    for i in range(m):\n",
    "        f_wb_i = np.dot(w, x) + b\n",
    "        err = (f_wb_i - y[i]) ** 2\n",
    "        tot_err += err\n",
    "    return(1/2*m)*tot_err"
   ]
  },
  {
   "cell_type": "code",
   "execution_count": 133,
   "metadata": {},
   "outputs": [],
   "source": [
    "def gradient(x, y, w, b):\n",
    "    m, n = x.shape\n",
    "    dJ_dw, dJ_db = np.zeros(n,), 0\n",
    "    for i in range(m):\n",
    "        f_wb_i = np.dot(w, x[i]) + b\n",
    "        dJ_db += (f_wb_i - y[i])\n",
    "        for j in range(n):\n",
    "            dJ_dw[j] += (f_wb_i - y[i]) * x[i][j]\n",
    "        # print(dJ_db, dJ_dw)\n",
    "    return dJ_dw/m, dJ_db/m"
   ]
  },
  {
   "cell_type": "code",
   "execution_count": 134,
   "metadata": {},
   "outputs": [],
   "source": [
    "def gradient_descent(x, y, w_init, b_init, num_epoch, lr, gradient, compute_cost):\n",
    "    w, b = w_init, b_init\n",
    "    for i in range(num_epoch):\n",
    "        dJ_dw, dJ_db = gradient(x, y, w, b)\n",
    "        w -= lr * dJ_dw\n",
    "        b -= lr * dJ_db\n",
    "    return w, b"
   ]
  },
  {
   "attachments": {},
   "cell_type": "markdown",
   "metadata": {},
   "source": [
    "Running it"
   ]
  },
  {
   "cell_type": "code",
   "execution_count": 135,
   "metadata": {},
   "outputs": [
    {
     "data": {
      "text/plain": [
       "(array([ 0.33328928,  0.11110708, -0.11107512]), 0.777817801285554)"
      ]
     },
     "execution_count": 135,
     "metadata": {},
     "output_type": "execute_result"
    }
   ],
   "source": [
    "w, b = gradient_descent(X_train, y_train, np.ones(n), 1, 10000, .001, gradient, compute_cost)\n",
    "w,b"
   ]
  },
  {
   "cell_type": "code",
   "execution_count": 136,
   "metadata": {},
   "outputs": [
    {
     "name": "stdout",
     "output_type": "stream",
     "text": [
      "3.9999870392236736\n"
     ]
    }
   ],
   "source": [
    "print(np.dot(w, X_test[0]) + b)"
   ]
  }
 ],
 "metadata": {
  "kernelspec": {
   "display_name": "Python 3",
   "language": "python",
   "name": "python3"
  },
  "language_info": {
   "codemirror_mode": {
    "name": "ipython",
    "version": 3
   },
   "file_extension": ".py",
   "mimetype": "text/x-python",
   "name": "python",
   "nbconvert_exporter": "python",
   "pygments_lexer": "ipython3",
   "version": "3.10.6"
  },
  "orig_nbformat": 4
 },
 "nbformat": 4,
 "nbformat_minor": 2
}
